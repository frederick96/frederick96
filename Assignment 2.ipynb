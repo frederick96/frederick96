{
 "cells": [
  {
   "cell_type": "markdown",
   "metadata": {},
   "source": [
    "# ASSIGNMENT 2"
   ]
  },
  {
   "cell_type": "markdown",
   "metadata": {},
   "source": [
    "# TASK 1"
   ]
  },
  {
   "cell_type": "markdown",
   "metadata": {},
   "source": [
    "# TASK 2_1: Write a Python Program to implement your own myreduce() function which works exactly like Python's built-in function reduce()"
   ]
  },
  {
   "cell_type": "code",
   "execution_count": 1,
   "metadata": {},
   "outputs": [
    {
     "name": "stdout",
     "output_type": "stream",
     "text": [
      "Sum of all element in list a : 15\n",
      "Product of all elements in list a : 120\n"
     ]
    }
   ],
   "source": [
    "def myreduce(fun, alist):\n",
    "    x = alist[0]\n",
    "    \n",
    "    for i in range(1, len(alist)):\n",
    "        x = fun(x, alist[i])\n",
    "    return x\n",
    "\n",
    "def summ(x1, x2):\n",
    "    return x1 + x2\n",
    "\n",
    "def Product(x1, x2):\n",
    "    return(x1 * x2)\n",
    "\n",
    "a = [1, 2, 3, 4, 5]\n",
    "\n",
    "print(\"Sum of all element in list a :\", myreduce(summ, a))\n",
    "print(\"Product of all elements in list a :\", myreduce(Product, a))"
   ]
  },
  {
   "cell_type": "markdown",
   "metadata": {},
   "source": [
    "# TASK 1_2: Write a Python program to implement your own myfilter() function which works exactly like Python's built-in function filter()"
   ]
  },
  {
   "cell_type": "code",
   "execution_count": 2,
   "metadata": {},
   "outputs": [
    {
     "name": "stdout",
     "output_type": "stream",
     "text": [
      "Sum on list [1,2,3] using custom reduce function 6\n",
      "Filter only positive Integers on list [0,1,-2,3,4,5] using custom filter function[1, 3, 4, 5]\n"
     ]
    }
   ],
   "source": [
    "\n",
    "def myfilter(anyfunc, sequence):\n",
    "\n",
    "\n",
    " result = []\n",
    " \n",
    " for item in sequence:\n",
    "  if anyfunc(item):\n",
    "   result.append(item)\n",
    "\n",
    " \n",
    " return result\n",
    "\n",
    "\n",
    "\n",
    "def sum(x,y): return x + y\n",
    "\n",
    "\n",
    "def ispositive(x):\n",
    " if (x <= 0): \n",
    "  return False \n",
    " else: \n",
    "  return True\n",
    "\n",
    "\n",
    "print (\"Sum on list [1,2,3] using custom reduce function \"   + str(myreduce(sum, [1,2,3])) )\n",
    "print (\"Filter only positive Integers on list [0,1,-2,3,4,5] using custom filter function\"  + str(myfilter(ispositive, [0,1,-2,3,4,5])))"
   ]
  },
  {
   "cell_type": "markdown",
   "metadata": {},
   "source": [
    "# TASK 1_3: 2. Write List comprehensions to produce the following Lists\n",
    "\n",
    "1. ['A', 'C', 'A', 'D', 'G', 'I', 'L', 'D']\n",
    "\n",
    "2. ['x', 'xx', 'xxx', 'xxxx', 'y', 'yy', 'yyy', 'yyyy', 'z', 'zz', 'zzz', 'zzzz']\n",
    "\n",
    "3. ['x', 'y', 'z', 'xx', 'yy', 'zz', 'xx', 'yy', 'zz', 'xxxx', 'yyyy', 'zzzz']\n",
    "\n",
    "4. [[2], [3], [4], [3], [4], [5], [4], [5], [6]]\n",
    "\n",
    "5. [[2, 3, 4, 5], [3, 4, 5, 6], [4, 5, 6, 7], [5, 6, 7, 8]]\n",
    "\n",
    "6. [(1, 1), (2, 1), (3, 1), (1, 2), (2, 2), (3, 2), (1, 3), (2, 3), (3, 3)]"
   ]
  },
  {
   "cell_type": "code",
   "execution_count": 4,
   "metadata": {},
   "outputs": [
    {
     "name": "stdout",
     "output_type": "stream",
     "text": [
      "['A', 'C', 'A', 'D', 'G', 'I', 'L', 'D']\n",
      "['x', 'xx', 'xxx', 'xxxx', 'y', 'yy', 'yyy', 'yyyy', 'z', 'zz', 'zzz', 'zzzz']\n",
      "['x', 'y', 'z', 'xx', 'yy', 'zz', 'xxx', 'yyy', 'zzz', 'xxxx', 'yyyy', 'zzzz']\n",
      "[[2], [3], [4], [3], [4], [5], [4], [5], [6]]\n",
      "[[2, 3, 4, 5], [3, 4, 5, 6], [4, 5, 6, 7], [5, 6, 7, 8]]\n",
      "[(1, 1), (2, 1), (3, 1), (1, 2), (2, 2), (3, 2), (1, 3), (2, 3), (3, 3)]\n"
     ]
    }
   ],
   "source": [
    " \n",
    "l = [i for i in 'ACADGILD']\n",
    "print(l)\n",
    " \n",
    "l1 = [i * j for j in ['x', 'y', 'z'] for i in range(1, 5)]\n",
    "print(l1)\n",
    "\n",
    "l2 = [i * j for j in range(1, 5) for i in ['x', 'y', 'z']]\n",
    "print(l2)\n",
    "\n",
    "l3 = [[i + j] for j in [0, 1, 2] for i in range(2, 5)]\n",
    "print(l3)\n",
    "\n",
    "l4 = [[i + j for j in [0, 1, 2, 3]] for i in range(2, 6)]\n",
    "print(l4)\n",
    "\n",
    "l5 = [(i,j) for j in [1, 2, 3] for i in [1, 2, 3]]\n",
    "print(l5)"
   ]
  },
  {
   "cell_type": "markdown",
   "metadata": {},
   "source": [
    "# Task 1_4:3.Implement a function longestWord() that takes a list of words and returns the longest one."
   ]
  },
  {
   "cell_type": "code",
   "execution_count": 20,
   "metadata": {},
   "outputs": [
    {
     "name": "stdout",
     "output_type": "stream",
     "text": [
      "list of words:['rise', 'last', 'win', 'lose', 'succeed']\n",
      "string length:[4, 4, 3, 4, 7]\n"
     ]
    }
   ],
   "source": [
    "list_of_words = ['rise','last','win','lose','succeed']\n",
    " \n",
    "string_length = []\n",
    " \n",
    "for i in range(len(list_of_words)):\n",
    "    string_length.append(len(list_of_words[i]))\n",
    " \n",
    "print(\"list of words:\"+str(list_of_words))    \n",
    "print(\"string length:\"+str(string_length))"
   ]
  },
  {
   "cell_type": "markdown",
   "metadata": {},
   "source": [
    "# TASK 2"
   ]
  },
  {
   "cell_type": "markdown",
   "metadata": {},
   "source": [
    "# TASK 2_1: Write a Python Program(with class concepts) to find the area of the triangle using the below formula. area = (s*(s-a)*(s-b)*(s-c)) ** 0.5  Function to take the length of the sides of triangle from user should be defined in the parent class and function to calculate the area should be defined in subclass."
   ]
  },
  {
   "cell_type": "code",
   "execution_count": 11,
   "metadata": {},
   "outputs": [
    {
     "name": "stdout",
     "output_type": "stream",
     "text": [
      "14.696938456699069\n"
     ]
    }
   ],
   "source": [
    "class triangle:\n",
    "\n",
    "    def __init__(self, lengths_of_sides):\n",
    "        self.lengths_of_sides = lengths_of_sides  \n",
    "\n",
    "    def get_area(self):\n",
    "        a, b, c = self.lengths_of_sides\n",
    "\n",
    "        s = (a + b + c) / 2\n",
    "        return (s*(s-a)*(s-b)*(s-c)) ** 0.5\n",
    "    \n",
    "\n",
    "tri = triangle([5, 6, 7])\n",
    "print(tri.get_area())\n"
   ]
  },
  {
   "cell_type": "markdown",
   "metadata": {},
   "source": [
    "# TASK 2_2: Write a function filter_long_words() that takes a list of words and an integer n and returns the list of words that are longer than n."
   ]
  },
  {
   "cell_type": "code",
   "execution_count": 15,
   "metadata": {},
   "outputs": [
    {
     "data": {
      "text/plain": [
       "['just pass', 'above average', 'below average']"
      ]
     },
     "execution_count": 15,
     "metadata": {},
     "output_type": "execute_result"
    }
   ],
   "source": [
    "def filter_long_words(words, n):\n",
    "    return filter(lambda x: len(x) > n, words)\n",
    "\n",
    "list(filter_long_words(['pass', 'fail', 'just pass', 'above average', 'below average'], 7))"
   ]
  },
  {
   "cell_type": "markdown",
   "metadata": {},
   "source": [
    "# Task 2_3: Write a Python program using function concept that maps list of words into a list of integers representing the lengths of the corresponding words"
   ]
  },
  {
   "cell_type": "code",
   "execution_count": 21,
   "metadata": {},
   "outputs": [
    {
     "ename": "SyntaxError",
     "evalue": "unexpected EOF while parsing (<ipython-input-21-9ce7053c46f0>, line 4)",
     "output_type": "error",
     "traceback": [
      "\u001b[1;36m  File \u001b[1;32m\"<ipython-input-21-9ce7053c46f0>\"\u001b[1;36m, line \u001b[1;32m4\u001b[0m\n\u001b[1;33m    print (\"length of words in array:\" ,str( wordlength(wordslist))\u001b[0m\n\u001b[1;37m                                                                   ^\u001b[0m\n\u001b[1;31mSyntaxError\u001b[0m\u001b[1;31m:\u001b[0m unexpected EOF while parsing\n"
     ]
    }
   ],
   "source": [
    "wordslist= ['It', 'is', 'a', 'bright', 'morning']\n",
    "def wordlength (wordslist):\n",
    "    return(map(lambda x: len(x), wordslist))\n",
    "print (\"length of words in array:\" ,str( wordlength(wordslist))"
   ]
  },
  {
   "cell_type": "markdown",
   "metadata": {},
   "source": [
    "# Task 2_4:Write a Python function which takes a character (i.e. a string of length 1) and returns True if it is a vowel, False otherwise."
   ]
  },
  {
   "cell_type": "code",
   "execution_count": 22,
   "metadata": {},
   "outputs": [
    {
     "name": "stdout",
     "output_type": "stream",
     "text": [
      "True\n",
      "True\n",
      "False\n"
     ]
    }
   ],
   "source": [
    "def is_vowel(char):\n",
    "    allvowels = 'aeiou'\n",
    "    return char in allvowels\n",
    "print(is_vowel('a'))\n",
    "print(is_vowel('e'))\n",
    "print(is_vowel('c'))"
   ]
  },
  {
   "cell_type": "code",
   "execution_count": null,
   "metadata": {},
   "outputs": [],
   "source": []
  }
 ],
 "metadata": {
  "kernelspec": {
   "display_name": "Python 3",
   "language": "python",
   "name": "python3"
  },
  "language_info": {
   "codemirror_mode": {
    "name": "ipython",
    "version": 3
   },
   "file_extension": ".py",
   "mimetype": "text/x-python",
   "name": "python",
   "nbconvert_exporter": "python",
   "pygments_lexer": "ipython3",
   "version": "3.7.6"
  }
 },
 "nbformat": 4,
 "nbformat_minor": 4
}
